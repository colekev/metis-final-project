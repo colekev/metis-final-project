{
 "cells": [
  {
   "cell_type": "markdown",
   "metadata": {},
   "source": [
    "## Twitter Analysis: Metis Final Project"
   ]
  },
  {
   "cell_type": "code",
   "execution_count": 1055,
   "metadata": {
    "collapsed": true
   },
   "outputs": [],
   "source": [
    "import pandas as pd\n",
    "import sentlex\n",
    "import sentlex.sentanalysis\n",
    "from textblob import TextBlob\n",
    "from sqlalchemy import create_engine\n",
    "import getpass\n",
    "import numpy as np\n",
    "import seaborn as sns\n",
    "import json\n",
    "from pymongo import MongoClient\n"
   ]
  },
  {
   "cell_type": "markdown",
   "metadata": {},
   "source": [
    "### Sentiment Analysis"
   ]
  },
  {
   "cell_type": "code",
   "execution_count": 1107,
   "metadata": {
    "collapsed": false
   },
   "outputs": [],
   "source": [
    "client = MongoClient()\n",
    "db = client.player_top_tweets\n",
    "# Our collection: \n",
    "\n",
    "players = pd.read_csv('~/Desktop/Metis/player_names_2012.csv')\n",
    "\n",
    "players = list(players.Name)\n",
    "\n",
    "# player = 'Joseph Randle'#list(player['Name'])\n"
   ]
  },
  {
   "cell_type": "code",
   "execution_count": 1108,
   "metadata": {
    "collapsed": false,
    "scrolled": false
   },
   "outputs": [
    {
     "data": {
      "text/html": [
       "<div>\n",
       "<table border=\"1\" class=\"dataframe\">\n",
       "  <thead>\n",
       "    <tr style=\"text-align: right;\">\n",
       "      <th></th>\n",
       "      <th>_id</th>\n",
       "      <th>link</th>\n",
       "      <th>retweets</th>\n",
       "      <th>likes</th>\n",
       "      <th>text</th>\n",
       "      <th>time</th>\n",
       "      <th>player</th>\n",
       "    </tr>\n",
       "  </thead>\n",
       "  <tbody>\n",
       "    <tr>\n",
       "      <th>1</th>\n",
       "      <td>57cae13f791e4b82fc9e7ed4</td>\n",
       "      <td>/speckman16/status/495342479009251328</td>\n",
       "      <td>0 retweets</td>\n",
       "      <td>0 likes</td>\n",
       "      <td>VIDEO: Bengals teammate punches A.J. Green in ...</td>\n",
       "      <td>3:57 PM - 1 Aug 2014</td>\n",
       "      <td>A.J. Green</td>\n",
       "    </tr>\n",
       "    <tr>\n",
       "      <th>3</th>\n",
       "      <td>57cae13f791e4b82fc9e7ed6</td>\n",
       "      <td>/ColeyHarvey/status/495332526781902849</td>\n",
       "      <td>0 retweets</td>\n",
       "      <td>1 like</td>\n",
       "      <td>A.J. Green nearly surrendered a pick for Dalto...</td>\n",
       "      <td>3:17 PM - 1 Aug 2014</td>\n",
       "      <td>A.J. Green</td>\n",
       "    </tr>\n",
       "    <tr>\n",
       "      <th>4</th>\n",
       "      <td>57cae13f791e4b82fc9e7ed7</td>\n",
       "      <td>/NinoBeige/status/495310961545576448</td>\n",
       "      <td>0 retweets</td>\n",
       "      <td>0 likes</td>\n",
       "      <td>He see A.J. Green week 1 RT @CuffsTheLegend: S...</td>\n",
       "      <td>1:51 PM - 1 Aug 2014</td>\n",
       "      <td>A.J. Green</td>\n",
       "    </tr>\n",
       "    <tr>\n",
       "      <th>5</th>\n",
       "      <td>57cae13f791e4b82fc9e7ed8</td>\n",
       "      <td>/BJeanlouis12/status/495307812680253440</td>\n",
       "      <td>0 retweets</td>\n",
       "      <td>0 likes</td>\n",
       "      <td>Hope A.J. Green got Bigger</td>\n",
       "      <td>1:39 PM - 1 Aug 2014</td>\n",
       "      <td>A.J. Green</td>\n",
       "    </tr>\n",
       "    <tr>\n",
       "      <th>6</th>\n",
       "      <td>57cae13f791e4b82fc9e7ed9</td>\n",
       "      <td>/BChad50/status/495299023004516352</td>\n",
       "      <td>0 retweets</td>\n",
       "      <td>0 likes</td>\n",
       "      <td>In auction formats, I'll be throwing Calvin Jo...</td>\n",
       "      <td>1:04 PM - 1 Aug 2014</td>\n",
       "      <td>A.J. Green</td>\n",
       "    </tr>\n",
       "  </tbody>\n",
       "</table>\n",
       "</div>"
      ],
      "text/plain": [
       "                        _id                                     link  \\\n",
       "1  57cae13f791e4b82fc9e7ed4    /speckman16/status/495342479009251328   \n",
       "3  57cae13f791e4b82fc9e7ed6   /ColeyHarvey/status/495332526781902849   \n",
       "4  57cae13f791e4b82fc9e7ed7     /NinoBeige/status/495310961545576448   \n",
       "5  57cae13f791e4b82fc9e7ed8  /BJeanlouis12/status/495307812680253440   \n",
       "6  57cae13f791e4b82fc9e7ed9       /BChad50/status/495299023004516352   \n",
       "\n",
       "     retweets    likes                                               text  \\\n",
       "1  0 retweets  0 likes  VIDEO: Bengals teammate punches A.J. Green in ...   \n",
       "3  0 retweets   1 like  A.J. Green nearly surrendered a pick for Dalto...   \n",
       "4  0 retweets  0 likes  He see A.J. Green week 1 RT @CuffsTheLegend: S...   \n",
       "5  0 retweets  0 likes                         Hope A.J. Green got Bigger   \n",
       "6  0 retweets  0 likes  In auction formats, I'll be throwing Calvin Jo...   \n",
       "\n",
       "                   time      player  \n",
       "1  3:57 PM - 1 Aug 2014  A.J. Green  \n",
       "3  3:17 PM - 1 Aug 2014  A.J. Green  \n",
       "4  1:51 PM - 1 Aug 2014  A.J. Green  \n",
       "5  1:39 PM - 1 Aug 2014  A.J. Green  \n",
       "6  1:04 PM - 1 Aug 2014  A.J. Green  "
      ]
     },
     "execution_count": 1108,
     "metadata": {},
     "output_type": "execute_result"
    }
   ],
   "source": [
    "#  import pandas as pd run first results through before looping the rest\n",
    "def structure_results(player):\n",
    "    tweets = db[player]\n",
    "    cursor = tweets.find()\n",
    "    results = list(cursor)\n",
    "    id_list=[tweet['_id'] for tweet in results]\n",
    "    data=pd.DataFrame(id_list,columns=['_id'])\n",
    "    \n",
    "    data[\"link\"] = [tweet['link'] for tweet in results]\n",
    "    data[\"retweets\"] = [tweet['retweets'] for tweet in results]\n",
    "    data['likes'] = [tweet['likes'] for tweet in results]\n",
    "    data[\"text\"]= [tweet['text'] for tweet in results]\n",
    "    data['time'] = [tweet['time'] for tweet in results]\n",
    "    \n",
    "    ## Filter for only tweets with the player name and add column of player name\n",
    "    data['player'] = player\n",
    "    data = data[data['text'].str.contains(player)]\n",
    "    \n",
    "    \n",
    "    return data\n",
    "\n",
    "total_data=structure_results(players[0])\n",
    "total_data.head()"
   ]
  },
  {
   "cell_type": "code",
   "execution_count": 1110,
   "metadata": {
    "collapsed": false
   },
   "outputs": [
    {
     "name": "stdout",
     "output_type": "stream",
     "text": [
      "Alshon Jeffery 6165\n",
      "Andre Johnson 9311\n",
      "Anquan Boldin 6013\n",
      "Antonio Brown 4553\n",
      "Austin Collie 1304\n",
      "Brandon LaFell 1879\n",
      "Brandon Lloyd 1651\n",
      "Brandon Marshall 10159\n",
      "Calvin Johnson 11670\n",
      "Danny Amendola 3624\n",
      "Darrius Heyward-Bey 1607\n",
      "Davone Bess 851\n",
      "Demaryius Thomas 5045\n",
      "Denarius Moore 1611\n",
      "DeSean Jackson 5596\n",
      "Dez Bryant 6327\n",
      "Doug Baldwin 4009\n",
      "Dwayne Bowe 6619\n",
      "Emmanuel Sanders 4304\n",
      "Eric Decker 5074\n",
      "Greg Jennings 4168\n",
      "Greg Little 748\n",
      "Hakeem Nicks 6118\n",
      "Jeremy Maclin 6179\n",
      "Jerome Simpson 1594\n",
      "Jon Baldwin 521\n",
      "Jordy Nelson 7150\n",
      "Julio Jones 6985\n",
      "Justin Blackmon 3458\n",
      "Kendall Wright 5074\n",
      "Kenny Britt 5231\n",
      "Lance Moore 1358\n",
      "Larry Fitzgerald 6179\n",
      "Laurent Robinson 1022\n",
      "Leonard Hankerson 515\n",
      "Malcom Floyd 1943\n",
      "Mario Manningham 1732\n",
      "Marques Colston 4531\n",
      "Michael Crabtree 6182\n",
      "Michael Floyd 5171\n",
      "Mike Wallace 10594\n",
      "Mike Williams 5907\n",
      "Miles Austin 3531\n",
      "Nate Burleson 1059\n",
      "Nate Washington 885\n",
      "Percy Harvin 8398\n",
      "Pierre Garcon 2825\n",
      "Randall Cobb 5128\n",
      "Randy Moss 2685\n",
      "Reggie Wayne 6850\n",
      "Robert Meachem 1310\n",
      "Roddy White 5137\n",
      "Rueben Randle 3112\n",
      "Santana Moss 2032\n",
      "Santonio Holmes 4196\n",
      "Sidney Rice 2223\n",
      "Steve Johnson 9126\n",
      "Steve Smith 9863\n",
      "Titus Young 833\n",
      "Torrey Smith 3060\n",
      "Victor Cruz 8953\n",
      "Vincent Brown 2032\n",
      "Vincent Jackson 7775\n",
      "Wes Welker 6272\n"
     ]
    }
   ],
   "source": [
    "# Create pandas dataframe from tweets\n",
    "\n",
    "for player in players[1:]:\n",
    "    \n",
    "    tweets = db[player]\n",
    "    cursor = tweets.find()\n",
    "    results = list(cursor)\n",
    "    id_list=[tweet['_id'] for tweet in results]\n",
    "    data=pd.DataFrame(id_list,columns=['_id'])\n",
    "    try:\n",
    "        data[\"link\"] = [tweet['link'] for tweet in results]\n",
    "        data[\"retweets\"] = [tweet['retweets'] for tweet in results]\n",
    "        data['likes'] = [tweet['likes'] for tweet in results]\n",
    "        data[\"text\"]= [tweet['text'] for tweet in results]\n",
    "        data['time'] = [tweet['time'] for tweet in results]\n",
    "\n",
    "\n",
    "\n",
    "        data['player'] = player\n",
    "        data = data[data['text'].str.contains(player)]\n",
    "        \n",
    "        print(player, len(data))\n",
    "\n",
    "        total_data = total_data.append(data)\n",
    "    except:\n",
    "        continue"
   ]
  },
  {
   "cell_type": "code",
   "execution_count": 1111,
   "metadata": {
    "collapsed": false
   },
   "outputs": [],
   "source": [
    "# Drop duplicate rows\n",
    "total_data = total_data.drop_duplicates()"
   ]
  },
  {
   "cell_type": "code",
   "execution_count": 1112,
   "metadata": {
    "collapsed": true
   },
   "outputs": [],
   "source": [
    "# Remove players with names that affect sentiment calculation\n",
    "remove = ['Greg Little', 'A.J. Green', 'Golden Tate', 'Jaelen Strong', 'Brian Quick']\n",
    "\n",
    "for player in remove:\n",
    "    total_data.text = total_data.text.str.replace(player, '')"
   ]
  },
  {
   "cell_type": "code",
   "execution_count": 1115,
   "metadata": {
    "collapsed": true
   },
   "outputs": [],
   "source": [
    "## Changing date and filtering\n",
    "# read to csv for data manipulation in R\n",
    "\n",
    "total_data.to_csv('/Users/colekev/Desktop/Metis/player_sentiment_2010_2015.csv')"
   ]
  },
  {
   "cell_type": "code",
   "execution_count": 1116,
   "metadata": {
    "collapsed": false
   },
   "outputs": [],
   "source": [
    "## Bringing data back in from R\n",
    "\n",
    "total_data = pd.read_csv('/Users/colekev/Desktop/Metis/player_sentiment_2010_2015.csv')"
   ]
  },
  {
   "cell_type": "code",
   "execution_count": 1117,
   "metadata": {
    "collapsed": false
   },
   "outputs": [
    {
     "data": {
      "text/html": [
       "<div>\n",
       "<table border=\"1\" class=\"dataframe\">\n",
       "  <thead>\n",
       "    <tr style=\"text-align: right;\">\n",
       "      <th></th>\n",
       "      <th>NA</th>\n",
       "      <th>_id</th>\n",
       "      <th>link</th>\n",
       "      <th>retweets</th>\n",
       "      <th>likes</th>\n",
       "      <th>text</th>\n",
       "      <th>time</th>\n",
       "      <th>player</th>\n",
       "      <th>date</th>\n",
       "      <th>year</th>\n",
       "    </tr>\n",
       "  </thead>\n",
       "  <tbody>\n",
       "    <tr>\n",
       "      <th>0</th>\n",
       "      <td>7983</td>\n",
       "      <td>57d971c2791e4b4af5823a38</td>\n",
       "      <td>/ys_sports_cards/status/175247070834331648</td>\n",
       "      <td>0 retweets</td>\n",
       "      <td>0 likes</td>\n",
       "      <td>2011 Topps Chrome Rookie Football Card Bengals...</td>\n",
       "      <td>7:52 AM - 1 Mar 2012</td>\n",
       "      <td>A.J. Green</td>\n",
       "      <td>2012-03-01</td>\n",
       "      <td>2012</td>\n",
       "    </tr>\n",
       "    <tr>\n",
       "      <th>1</th>\n",
       "      <td>7989</td>\n",
       "      <td>57d971c6791e4b4af5823a3e</td>\n",
       "      <td>/Kategosser/status/175658105877692416</td>\n",
       "      <td>0 retweets</td>\n",
       "      <td>0 likes</td>\n",
       "      <td>Just hanging out with  for the night #nbd http...</td>\n",
       "      <td>11:05 AM - 2 Mar 2012</td>\n",
       "      <td>A.J. Green</td>\n",
       "      <td>2012-03-02</td>\n",
       "      <td>2012</td>\n",
       "    </tr>\n",
       "  </tbody>\n",
       "</table>\n",
       "</div>"
      ],
      "text/plain": [
       "     NA                       _id                                        link  \\\n",
       "0  7983  57d971c2791e4b4af5823a38  /ys_sports_cards/status/175247070834331648   \n",
       "1  7989  57d971c6791e4b4af5823a3e       /Kategosser/status/175658105877692416   \n",
       "\n",
       "     retweets    likes                                               text  \\\n",
       "0  0 retweets  0 likes  2011 Topps Chrome Rookie Football Card Bengals...   \n",
       "1  0 retweets  0 likes  Just hanging out with  for the night #nbd http...   \n",
       "\n",
       "                    time      player        date  year  \n",
       "0   7:52 AM - 1 Mar 2012  A.J. Green  2012-03-01  2012  \n",
       "1  11:05 AM - 2 Mar 2012  A.J. Green  2012-03-02  2012  "
      ]
     },
     "execution_count": 1117,
     "metadata": {},
     "output_type": "execute_result"
    }
   ],
   "source": [
    "total_data.head(2)"
   ]
  },
  {
   "cell_type": "code",
   "execution_count": 1118,
   "metadata": {
    "collapsed": false
   },
   "outputs": [],
   "source": [
    "# calculate polarity and subjectivity for each tweet using TextBlob\n",
    "total_data['polarity'] = [TextBlob(str(text)).sentiment[0] for text in total_data.text]\n",
    "total_data['subjectivity'] = [TextBlob(str(text)).sentiment[1] for text in total_data.text]"
   ]
  },
  {
   "cell_type": "code",
   "execution_count": 1121,
   "metadata": {
    "collapsed": false,
    "scrolled": true
   },
   "outputs": [
    {
     "data": {
      "text/plain": [
       "(61820, 12)"
      ]
     },
     "execution_count": 1121,
     "metadata": {},
     "output_type": "execute_result"
    }
   ],
   "source": [
    "total_data.shape"
   ]
  },
  {
   "cell_type": "code",
   "execution_count": 1122,
   "metadata": {
    "collapsed": false
   },
   "outputs": [],
   "source": [
    "# read to csv for more manipulation in R\n",
    "\n",
    "total_data.to_csv('/Users/colekev/Desktop/Metis/player_sentiment_2010_2015.csv')"
   ]
  },
  {
   "cell_type": "markdown",
   "metadata": {
    "collapsed": true
   },
   "source": [
    "## Topic modeling on tweets"
   ]
  },
  {
   "cell_type": "code",
   "execution_count": 1098,
   "metadata": {
    "collapsed": true
   },
   "outputs": [],
   "source": [
    "import lda\n",
    "from sklearn.feature_extraction.text import CountVectorizer\n",
    "from __future__ import print_function\n",
    "from time import time\n",
    "import numpy as np\n",
    "import pandas as pd\n",
    "import nltk\n",
    "import re\n",
    "import os\n",
    "import codecs\n",
    "import mpld3"
   ]
  },
  {
   "cell_type": "code",
   "execution_count": 1099,
   "metadata": {
    "collapsed": true
   },
   "outputs": [],
   "source": [
    "# Bring in data from R\n",
    "\n",
    "total_data = pd.read_csv('/Users/colekev/Desktop/Metis/player_sentiment_2010_2015.csv')\n",
    "total_data = total_data.drop('NA', axis = 1)\n",
    "total_data.text = total_data.text.astype(str)"
   ]
  },
  {
   "cell_type": "code",
   "execution_count": 1102,
   "metadata": {
    "collapsed": false
   },
   "outputs": [],
   "source": [
    "# Make list of all tweets for each player\n",
    "players = pd.read_csv('~/Desktop/Metis/player_names_2010_2015.csv')\n",
    "\n",
    "players = list(players.Name)\n",
    "\n",
    "topic_tweets = {}\n",
    "for player in players:\n",
    "    for year in range(2010, 2016):\n",
    "        player_tweets = total_data[total_data.player == player]\n",
    "        player_tweets = player_tweets[player_tweets.year == year]\n",
    "        tweets = ' '.join(player_tweets.text)\n",
    "        if len(tweets) != 0:\n",
    "            topic_tweets.setdefault(player + '_' + str(year), []).append(tweets)\n",
    "        else:\n",
    "            continue"
   ]
  },
  {
   "cell_type": "code",
   "execution_count": 1103,
   "metadata": {
    "collapsed": true
   },
   "outputs": [],
   "source": [
    "# transform back into dataframe\n",
    "\n",
    "id_list=[key.split('_')[0] for key, value in topic_tweets.items()]\n",
    "topics=pd.DataFrame(id_list,columns=['player'])\n",
    "\n",
    "topics['year'] = [key.split('_')[1] for key, value in topic_tweets.items()]\n",
    "topics[\"text\"] = [value for key, value in topic_tweets.items()]"
   ]
  },
  {
   "cell_type": "code",
   "execution_count": 877,
   "metadata": {
    "collapsed": false
   },
   "outputs": [],
   "source": [
    "# Get additional stop words for player names, team names and team cities\n",
    "# get names\n",
    "players = pd.read_csv('~/Desktop/Metis/player_names_2011_2015.csv')\n",
    "player_names = [name.lower().split(' ') for name in players.Name]\n",
    "#flatten nested list\n",
    "player_names = [item for sublist in player_names for item in sublist]\n",
    "# get team names and cities\n",
    "teams = pd.read_csv('/Users/colekev/Downloads/team_names_cities - Sheet1.csv')\n",
    "team_names = [name.lower() for name in teams.team_name]\n",
    "team_cities = [city.lower() for city in teams.city]\n"
   ]
  },
  {
   "cell_type": "code",
   "execution_count": 878,
   "metadata": {
    "collapsed": false
   },
   "outputs": [],
   "source": [
    "from nltk.corpus import stopwords\n",
    "my_stopword_list = stopwords.words('english')\n",
    "more_stop_words = ['https', 'http', 'rt', 'nfl', 'football', 'co', \"'s\", \"'m\", 'ca', 'www', 'qb', \n",
    "                   'te', 'wr', 'rb', 'rbs', 'wrs', 'qbs', 'tight', 'end', 'san', 'diego', 'wide', \n",
    "                   'receiver', 'running', 'back', 'quarterback', 'england', 'york', 'nyg', 'jersey', \n",
    "                   'bay', 'geno', 'nyj', 'ej', 'rex', 'tb', 'cincinnati', 'francisco', 'bucs', 'orleans', \n",
    "                   'new', 'im', 'lol', 'rg', 'espn', 'kansas', 'city', 'julio', 'allen', 'andrew', \n",
    "                   'luck', 'jordan hilton', 'bell', 'cooper', 'green', 'danny', 'season', 'fantasy', 'fantasyfootball',\n",
    "                   'carolina', 'league', 'camp', 'st', 'rd', 'via', 'video', 'ers', 'minnesota', 'niners', \n",
    "                   'madden', 'harbaugh', 'kaepernick', 'jr', 'colin', 'sf', 'cowboysnation', \n",
    "                   'carroll', 'jerry', 'smiths', 'google', 'petersons', 'russell', 'mode', 'james', \n",
    "                   'sr', 'pete', 'th', 'aj', 'graham', 'doug', 'nelson', 'murray', 'preseason', 'sports',\n",
    "                   'alshon', 'jordan', 'josh', 'gordon', 'lacy', 'hilton', 'like', 'brady', 'mccoy', 'peyton', 'mccoy', \n",
    "                   'foster', 'team', 'got', 'get', 'wilson', 'megatron', 'cam', 'jimmy', 'newton', 'vick']\n",
    "my_stopword_list.extend(more_stop_words)\n",
    "my_stopword_list.extend(player_names)\n",
    "my_stopword_list.extend(team_names)\n",
    "my_stopword_list.extend(team_cities)\n",
    "my_stopword_list.extend(['2011','2012', '2013', '2014', '2015', ',', '?', '.', ')', '(', '...', '/'])"
   ]
  },
  {
   "cell_type": "code",
   "execution_count": 879,
   "metadata": {
    "collapsed": false
   },
   "outputs": [],
   "source": [
    "# tokenize\n",
    "from nltk.tokenize import TweetTokenizer\n",
    "tknzr = TweetTokenizer(strip_handles=True, reduce_len=True)\n",
    "topics.text_token = [tknzr.tokenize(text[0]) for text in np.ravel(topics.text)]"
   ]
  },
  {
   "cell_type": "code",
   "execution_count": 880,
   "metadata": {
    "collapsed": false
   },
   "outputs": [],
   "source": [
    "# remove stop words # remove urls\n",
    "import re\n",
    "for j in range(len(topics.text_token)):\n",
    "    topics.text_token[j] = [i.lower() for i in topics.text_token[j] if i.lower() not in my_stopword_list]\n",
    "    topics.text_token[j] = [re.sub(r'^https?:\\/\\/.*[\\r\\n]*', '', word, flags=re.MULTILINE) for word in topics.text_token[j]]\n",
    "    topics.text_token[j] = [re.sub(r'^http?:\\/\\/.*[\\r\\n]*', '', word, flags=re.MULTILINE) for word in topics.text_token[j]]\n",
    "    topics.text_token[j] = [re.sub('[^A-Za-z]+', '', word, flags=re.MULTILINE) for word in topics.text_token[j]]\n",
    "    topics.text_token[j] = [re.sub(r'^pic.?:\\/\\/.*[\\r\\n]*', '', word, flags=re.MULTILINE) for word in topics.text_token[j]]\n",
    "    topics.text_token[j] = [re.sub(r'^pictwitter?:\\/\\/.*[\\r\\n]*', '', word, flags=re.MULTILINE) for word in topics.text_token[j]]\n",
    "    topics.text_token[j] = [re.sub(r'^@?:\\/\\/.*[\\r\\n]*', '', word, flags=re.MULTILINE) for word in topics.text_token[j]]\n",
    "    topics.text_token[j] = [re.sub(r'''(?i)\\b((?:https?://|www\\d{0,3}[.]|[a-z0-9.\\-]+[.][a-z]{2,4}/)(?:[^\\s()<>]+|\\(([^\\s()<>]+|(\\([^\\s()<>]+\\)))*\\))+(?:\\(([^\\s()<>]+|(\\([^\\s()<>]+\\)))*\\)|[^\\s`!()\\[\\]{};:'\".,<>?«»“”‘’]))''','', word, flags=re.MULTILINE) for word in topics.text_token[j]]"
   ]
  },
  {
   "cell_type": "code",
   "execution_count": 881,
   "metadata": {
    "collapsed": false
   },
   "outputs": [],
   "source": [
    "# join back together\n",
    "topics.text_token = [\" \".join(words) for words in topics.text_token]"
   ]
  },
  {
   "cell_type": "code",
   "execution_count": 882,
   "metadata": {
    "collapsed": false
   },
   "outputs": [
    {
     "name": "stdout",
     "output_type": "stream",
     "text": [
      "Creating the bag of words...\n",
      "\n"
     ]
    }
   ],
   "source": [
    "print(\"Creating the bag of words...\\n\")\n",
    "from sklearn.feature_extraction.text import CountVectorizer\n",
    "\n",
    "# Initialize the \"CountVectorizer\" object \n",
    "vectorizer = CountVectorizer(analyzer = \"word\", tokenizer = None, preprocessor = None, stop_words = my_stopword_list, max_features = 5000, max_df = 0.95) \n",
    "\n",
    "# The input to fit_transform should be a list of \n",
    "train_data_features = vectorizer.fit_transform(np.ravel(topics.text_token))\n",
    "\n",
    "# Convert the result to an array\n",
    "train_data_features = train_data_features.toarray()"
   ]
  },
  {
   "cell_type": "code",
   "execution_count": 883,
   "metadata": {
    "collapsed": false
   },
   "outputs": [
    {
     "data": {
      "text/plain": [
       "<lda.lda.LDA at 0x13e7b3550>"
      ]
     },
     "execution_count": 883,
     "metadata": {},
     "output_type": "execute_result"
    }
   ],
   "source": [
    "model = lda.LDA(n_topics=4, n_iter=1500, random_state=1)\n",
    "model.fit(train_data_features)  # model.fit_transform(X) is also available"
   ]
  },
  {
   "cell_type": "code",
   "execution_count": 884,
   "metadata": {
    "collapsed": false
   },
   "outputs": [],
   "source": [
    "topic_word = model.topic_word_  # model.components_ also works"
   ]
  },
  {
   "cell_type": "code",
   "execution_count": 885,
   "metadata": {
    "collapsed": false,
    "scrolled": true
   },
   "outputs": [
    {
     "name": "stdout",
     "output_type": "stream",
     "text": [
      "Topic 0: catch day pass practice says ball td watch nice makes time offense cant field check man dont show work start news night make even also\n",
      "Topic 1: practice injury week knee news return hamstring opener expected healthy foot ready miss field playing practicing update injured tonight acl suspension returns concussion time list\n",
      "Topic 2: top trade take next keep love need player receivers dont gonna yards say know two players said picks keeper look thats gets nd ppr far\n",
      "Topic 3: rookie ppr sleeper dynasty late gonna week value breakout also drafted guys auto td sleepers adp love next player guy lot offense start vs getting\n"
     ]
    }
   ],
   "source": [
    "vocab = vectorizer.get_feature_names()\n",
    "\n",
    "n_top_words = 25\n",
    "for i, topic_dist in enumerate(topic_word):\n",
    "    topic_words = np.array(vocab)[np.argsort(topic_dist)][:-(n_top_words+1):-1]\n",
    "    print('Topic {}: {}'.format(i, ' '.join(topic_words)))"
   ]
  },
  {
   "cell_type": "code",
   "execution_count": 886,
   "metadata": {
    "collapsed": false
   },
   "outputs": [],
   "source": [
    "# document topic distributions\n",
    "doc_topic = model.doc_topic_ "
   ]
  },
  {
   "cell_type": "code",
   "execution_count": 887,
   "metadata": {
    "collapsed": false
   },
   "outputs": [
    {
     "name": "stdout",
     "output_type": "stream",
     "text": [
      "Golden Tate, 2014 (top topic: 0)\n",
      "DeSean Jackson, 2015 (top topic: 0)\n",
      "Brandon LaFell, 2012 (top topic: 0)\n",
      "Darrius Heyward-Bey, 2012 (top topic: 0)\n",
      "Hines Ward, 2011 (top topic: 2)\n",
      "Lee Evans, 2011 (top topic: 0)\n",
      "Jeremy Maclin, 2011 (top topic: 1)\n",
      "Nate Washington, 2012 (top topic: 2)\n",
      "Demaryius Thomas, 2012 (top topic: 2)\n",
      "Jerricho Cotchery, 2014 (top topic: 0)\n",
      "Deion Branch, 2011 (top topic: 2)\n",
      "Malcom Floyd, 2014 (top topic: 0)\n",
      "Hakeem Nicks, 2012 (top topic: 2)\n",
      "Hakeem Nicks, 2013 (top topic: 2)\n",
      "Marvin Jones, 2014 (top topic: 3)\n"
     ]
    }
   ],
   "source": [
    "for i in range(15):\n",
    "    print(\"{}, {} (top topic: {})\".format(topics.player[i], topics.year[i], doc_topic[i].argmax()))"
   ]
  },
  {
   "cell_type": "code",
   "execution_count": 888,
   "metadata": {
    "collapsed": false
   },
   "outputs": [],
   "source": [
    "topics['topic'] = [category for category in doc_topic]"
   ]
  },
  {
   "cell_type": "code",
   "execution_count": 889,
   "metadata": {
    "collapsed": false
   },
   "outputs": [],
   "source": [
    "for i in range(4):\n",
    "    topics['topic_{}'.format(i)] = [topic_scores[i] for topic_scores in topics.topic]"
   ]
  },
  {
   "cell_type": "code",
   "execution_count": 890,
   "metadata": {
    "collapsed": false,
    "scrolled": true
   },
   "outputs": [
    {
     "data": {
      "text/html": [
       "<div>\n",
       "<table border=\"1\" class=\"dataframe\">\n",
       "  <thead>\n",
       "    <tr style=\"text-align: right;\">\n",
       "      <th></th>\n",
       "      <th>player</th>\n",
       "      <th>year</th>\n",
       "      <th>text</th>\n",
       "      <th>topic</th>\n",
       "      <th>topic_0</th>\n",
       "      <th>topic_1</th>\n",
       "      <th>topic_2</th>\n",
       "      <th>topic_3</th>\n",
       "    </tr>\n",
       "  </thead>\n",
       "  <tbody>\n",
       "    <tr>\n",
       "      <th>0</th>\n",
       "      <td>Golden Tate</td>\n",
       "      <td>2014</td>\n",
       "      <td>[@ShowtimeTate A very happy birthday to ND and...</td>\n",
       "      <td>[0.388213180009, 0.000110570544007, 0.36941618...</td>\n",
       "      <td>0.388213</td>\n",
       "      <td>0.000111</td>\n",
       "      <td>0.369416</td>\n",
       "      <td>0.242260</td>\n",
       "    </tr>\n",
       "    <tr>\n",
       "      <th>1</th>\n",
       "      <td>DeSean Jackson</td>\n",
       "      <td>2015</td>\n",
       "      <td>[Shoutout to 's mom for following me. @GeeJack...</td>\n",
       "      <td>[0.470062022901, 0.244632633588, 0.25298187022...</td>\n",
       "      <td>0.470062</td>\n",
       "      <td>0.244633</td>\n",
       "      <td>0.252982</td>\n",
       "      <td>0.032323</td>\n",
       "    </tr>\n",
       "    <tr>\n",
       "      <th>2</th>\n",
       "      <td>Brandon LaFell</td>\n",
       "      <td>2012</td>\n",
       "      <td>[LaFell handling first-team reps in camp -  (W...</td>\n",
       "      <td>[0.394513774429, 0.023663762656, 0.24264186484...</td>\n",
       "      <td>0.394514</td>\n",
       "      <td>0.023664</td>\n",
       "      <td>0.242642</td>\n",
       "      <td>0.339181</td>\n",
       "    </tr>\n",
       "    <tr>\n",
       "      <th>3</th>\n",
       "      <td>Darrius Heyward-Bey</td>\n",
       "      <td>2012</td>\n",
       "      <td>[,  awaiting start of practice. pic.twitter.co...</td>\n",
       "      <td>[0.309796854522, 0.237712975098, 0.29669069462...</td>\n",
       "      <td>0.309797</td>\n",
       "      <td>0.237713</td>\n",
       "      <td>0.296691</td>\n",
       "      <td>0.155799</td>\n",
       "    </tr>\n",
       "    <tr>\n",
       "      <th>4</th>\n",
       "      <td>Hines Ward</td>\n",
       "      <td>2011</td>\n",
       "      <td>[What do P!nk, John Schneider, Marlee Matlin, ...</td>\n",
       "      <td>[0.37167767056, 0.194768918233, 0.4114609785, ...</td>\n",
       "      <td>0.371678</td>\n",
       "      <td>0.194769</td>\n",
       "      <td>0.411461</td>\n",
       "      <td>0.022092</td>\n",
       "    </tr>\n",
       "  </tbody>\n",
       "</table>\n",
       "</div>"
      ],
      "text/plain": [
       "                player  year  \\\n",
       "0          Golden Tate  2014   \n",
       "1       DeSean Jackson  2015   \n",
       "2       Brandon LaFell  2012   \n",
       "3  Darrius Heyward-Bey  2012   \n",
       "4           Hines Ward  2011   \n",
       "\n",
       "                                                text  \\\n",
       "0  [@ShowtimeTate A very happy birthday to ND and...   \n",
       "1  [Shoutout to 's mom for following me. @GeeJack...   \n",
       "2  [LaFell handling first-team reps in camp -  (W...   \n",
       "3  [,  awaiting start of practice. pic.twitter.co...   \n",
       "4  [What do P!nk, John Schneider, Marlee Matlin, ...   \n",
       "\n",
       "                                               topic   topic_0   topic_1  \\\n",
       "0  [0.388213180009, 0.000110570544007, 0.36941618...  0.388213  0.000111   \n",
       "1  [0.470062022901, 0.244632633588, 0.25298187022...  0.470062  0.244633   \n",
       "2  [0.394513774429, 0.023663762656, 0.24264186484...  0.394514  0.023664   \n",
       "3  [0.309796854522, 0.237712975098, 0.29669069462...  0.309797  0.237713   \n",
       "4  [0.37167767056, 0.194768918233, 0.4114609785, ...  0.371678  0.194769   \n",
       "\n",
       "    topic_2   topic_3  \n",
       "0  0.369416  0.242260  \n",
       "1  0.252982  0.032323  \n",
       "2  0.242642  0.339181  \n",
       "3  0.296691  0.155799  \n",
       "4  0.411461  0.022092  "
      ]
     },
     "execution_count": 890,
     "metadata": {},
     "output_type": "execute_result"
    }
   ],
   "source": [
    "topics.head()"
   ]
  },
  {
   "cell_type": "code",
   "execution_count": 891,
   "metadata": {
    "collapsed": true
   },
   "outputs": [],
   "source": [
    "# Move topic data back over to R\n",
    "# read to csv\n",
    "topics.to_csv('/Users/colekev/Desktop/Metis/player_topics_2010_2015.csv')"
   ]
  },
  {
   "cell_type": "markdown",
   "metadata": {},
   "source": [
    "#### Topic Exploratory Graphs"
   ]
  },
  {
   "cell_type": "code",
   "execution_count": 892,
   "metadata": {
    "collapsed": true
   },
   "outputs": [],
   "source": [
    "# make chart of total categories\n",
    "topics_sum = [sum(topics.topic_0), sum(topics.topic_1), sum(topics.topic_2), sum(topics.topic_3)]"
   ]
  },
  {
   "cell_type": "code",
   "execution_count": 895,
   "metadata": {
    "collapsed": false
   },
   "outputs": [
    {
     "data": {
      "text/plain": [
       "[124.70854904796431, 32.725013520234711, 121.09239397354254, 71.47404345825845]"
      ]
     },
     "execution_count": 895,
     "metadata": {},
     "output_type": "execute_result"
    }
   ],
   "source": [
    "topics_sum"
   ]
  },
  {
   "cell_type": "code",
   "execution_count": 1010,
   "metadata": {
    "collapsed": false
   },
   "outputs": [],
   "source": [
    "topic_dis = topics[['topic_0', 'topic_1', 'topic_2', 'topic_3']]\n",
    "topic_dis.columns = ['Practicing Well', 'Injured', 'Veteran', 'Young Sleeper']"
   ]
  },
  {
   "cell_type": "code",
   "execution_count": 1011,
   "metadata": {
    "collapsed": false,
    "scrolled": true
   },
   "outputs": [
    {
     "data": {
      "text/plain": [
       "<matplotlib.axes._subplots.AxesSubplot at 0x147b22550>"
      ]
     },
     "execution_count": 1011,
     "metadata": {},
     "output_type": "execute_result"
    },
    {
     "data": {
      "image/png": "[encoded data removed]",
      "text/plain": [
       "<matplotlib.figure.Figure at 0x13bd4c358>"
      ]
     },
     "metadata": {},
     "output_type": "display_data"
    }
   ],
   "source": [
    "plt.figure(figsize=(10, 6))\n",
    "sns.barplot(data = topic_dis)\n"
   ]
  },
  {
   "cell_type": "code",
   "execution_count": 1002,
   "metadata": {
    "collapsed": true
   },
   "outputs": [],
   "source": [
    "# graph for one player\n",
    "white = topics[topics['player'] == 'Kevin White']\n",
    "white = white[['topic_0', 'topic_1', 'topic_2', 'topic_3']]\n",
    "white.columns = ['Practicing Well', 'Injured', 'Veteran', 'Young Sleeper']"
   ]
  },
  {
   "cell_type": "code",
   "execution_count": 1003,
   "metadata": {
    "collapsed": false
   },
   "outputs": [
    {
     "data": {
      "text/plain": [
       "<matplotlib.axes._subplots.AxesSubplot at 0x1247f9240>"
      ]
     },
     "execution_count": 1003,
     "metadata": {},
     "output_type": "execute_result"
    },
    {
     "data": {
      "image/png": "[encoded data removed]",
      "text/plain": [
       "<matplotlib.figure.Figure at 0x146b5d9b0>"
      ]
     },
     "metadata": {},
     "output_type": "display_data"
    }
   ],
   "source": [
    "plt.figure(figsize=(10, 6))\n",
    "sns.barplot(data = white)"
   ]
  },
  {
   "cell_type": "markdown",
   "metadata": {},
   "source": [
    "## Taking all the data for regression analysis"
   ]
  },
  {
   "cell_type": "code",
   "execution_count": 913,
   "metadata": {
    "collapsed": false
   },
   "outputs": [],
   "source": [
    "# Bring data back from R\n",
    "\n",
    "train = pd.read_csv('/Users/colekev/Desktop/Metis/train.csv')\n",
    "test = pd.read_csv('/Users/colekev/Desktop/Metis/test.csv')\n",
    "\n",
    "# transform social media data for feature selection\n",
    "\n",
    "train['log_topic_0'] = [np.log(topic) for topic in train.topic_0]\n",
    "test['log_topic_0'] = [np.log(topic) for topic in test.topic_0]\n",
    "train['log_topic_1'] = [np.log(topic) for topic in train.topic_1]\n",
    "test['log_topic_1'] = [np.log(topic) for topic in test.topic_1]\n",
    "train['log_topic_2'] = [np.log(topic) for topic in train.topic_2]\n",
    "test['log_topic_2'] = [np.log(topic) for topic in test.topic_2]\n",
    "train['log_topic_3'] = [np.log(topic) for topic in train.topic_3]\n",
    "test['log_topic_3'] = [np.log(topic) for topic in test.topic_3]\n",
    "train['log_tweets'] = [np.log(topic) for topic in train.tweets]\n",
    "test['log_tweets'] = [np.log(topic) for topic in test.tweets]\n",
    "train['log_ppr_fpts'] = [np.log(topic) for topic in train.tweets]\n",
    "test['log_ppr_fpts'] = [np.log(topic) for topic in test.tweets]\n",
    "\n",
    "train['sq_topic_0'] = [np.power(topic, 2) for topic in train.topic_0]\n",
    "test['sq_topic_0'] = [np.power(topic, 2) for topic in test.topic_0]\n",
    "train['sq_topic_1'] = [np.power(topic, 2) for topic in train.topic_1]\n",
    "test['sq_topic_1'] = [np.power(topic, 2) for topic in test.topic_1]\n",
    "train['sq_topic_2'] = [np.power(topic, 2) for topic in train.topic_2]\n",
    "test['sq_topic_2'] = [np.power(topic, 2) for topic in test.topic_2]\n",
    "train['sq_topic_3'] = [np.power(topic, 2) for topic in train.topic_3]\n",
    "test['sq_topic_3'] = [np.power(topic, 2) for topic in test.topic_3]\n",
    "train['sq_tweets'] = [np.power(topic, 2) for topic in train.tweets]\n",
    "test['sq_tweets'] = [np.power(topic, 2) for topic in test.tweets]\n",
    "train['sq_ppr_fpts'] = [np.power(topic, 2) for topic in train.tweets]\n",
    "test['sq_ppr_fpts'] = [np.power(topic, 2) for topic in test.tweets]"
   ]
  },
  {
   "cell_type": "code",
   "execution_count": 914,
   "metadata": {
    "collapsed": false
   },
   "outputs": [
    {
     "data": {
      "text/plain": [
       "Index(['player', 'name', 'year', 'avg_pick', 'tweets', 'total_tweets',\n",
       "       'tweet_ratio', 'polarity', 'subjectivity', 'topic_0', 'topic_1',\n",
       "       'topic_2', 'topic_3', 'pos', 'ppr_fpts', 'gms', 'exp', 'fpts_per',\n",
       "       'prior_fpts', 'prior_fpts_per', 'log_topic_0', 'log_topic_1',\n",
       "       'log_topic_2', 'log_topic_3', 'log_tweets', 'log_ppr_fpts',\n",
       "       'sq_topic_0', 'sq_topic_1', 'sq_topic_2', 'sq_topic_3', 'sq_tweets',\n",
       "       'sq_ppr_fpts'],\n",
       "      dtype='object')"
      ]
     },
     "execution_count": 914,
     "metadata": {},
     "output_type": "execute_result"
    }
   ],
   "source": [
    "train.columns"
   ]
  },
  {
   "cell_type": "markdown",
   "metadata": {},
   "source": [
    "### Lasso to find features"
   ]
  },
  {
   "cell_type": "code",
   "execution_count": 974,
   "metadata": {
    "collapsed": true
   },
   "outputs": [],
   "source": [
    "features = ['tweets',\n",
    "       'tweet_ratio', 'polarity', 'subjectivity', 'topic_0', 'topic_1',\n",
    "       'topic_2', 'topic_3', 'avg_pick']"
   ]
  },
  {
   "cell_type": "code",
   "execution_count": 975,
   "metadata": {
    "collapsed": false
   },
   "outputs": [],
   "source": [
    "X_train = train.dropna(axis=0, how='any', thresh=None, subset=None, inplace=False)"
   ]
  },
  {
   "cell_type": "code",
   "execution_count": 976,
   "metadata": {
    "collapsed": false
   },
   "outputs": [],
   "source": [
    "y_train = X_train.ppr_fpts"
   ]
  },
  {
   "cell_type": "code",
   "execution_count": 977,
   "metadata": {
    "collapsed": true
   },
   "outputs": [],
   "source": [
    "X_train = X_train[features]"
   ]
  },
  {
   "cell_type": "code",
   "execution_count": 978,
   "metadata": {
    "collapsed": false
   },
   "outputs": [
    {
     "data": {
      "text/plain": [
       "Index(['tweets', 'tweet_ratio', 'polarity', 'subjectivity', 'topic_0',\n",
       "       'topic_1', 'topic_2', 'topic_3', 'avg_pick'],\n",
       "      dtype='object')"
      ]
     },
     "execution_count": 978,
     "metadata": {},
     "output_type": "execute_result"
    }
   ],
   "source": [
    "X_train.columns"
   ]
  },
  {
   "cell_type": "code",
   "execution_count": 979,
   "metadata": {
    "collapsed": false
   },
   "outputs": [],
   "source": [
    "from sklearn.preprocessing import StandardScaler\n",
    "\n",
    "X_train_scaled = StandardScaler().fit_transform(X_train)"
   ]
  },
  {
   "cell_type": "code",
   "execution_count": 980,
   "metadata": {
    "collapsed": false
   },
   "outputs": [
    {
     "name": "stdout",
     "output_type": "stream",
     "text": [
      "tweets 1.61166760994\n",
      "tweet_ratio 0.0\n",
      "polarity 0.0\n",
      "subjectivity -0.463059738444\n",
      "topic_0 -0.0\n",
      "topic_1 -10.2790596456\n",
      "topic_2 0.0\n",
      "topic_3 0.0\n",
      "avg_pick -35.9189069266\n"
     ]
    }
   ],
   "source": [
    "from sklearn.linear_model import Lasso\n",
    "\n",
    "rgr = Lasso(alpha=7)\n",
    "rgr.fit(X_train_scaled, y_train)\n",
    "\n",
    "for i in range(len(X_train.columns)):\n",
    "    print(X_train.columns[i], rgr.coef_[i])"
   ]
  },
  {
   "cell_type": "code",
   "execution_count": 965,
   "metadata": {
    "collapsed": false,
    "scrolled": true
   },
   "outputs": [
    {
     "data": {
      "image/png": "[encoded data removed]",
      "text/plain": [
       "<matplotlib.figure.Figure at 0x11ec93f98>"
      ]
     },
     "metadata": {},
     "output_type": "display_data"
    }
   ],
   "source": [
    "import seaborn as sns\n",
    "import matplotlib.pyplot as plt\n",
    "\n",
    "# Show the results of a linear regression within each dataset\n",
    "sns.lmplot(x=\"tweets\", y=\"ppr_fpts\", data=train)\n",
    "#sns.lmplot(x=\"log_tweets\", y=\"ppr_fpts\", data=train)\n",
    "plt.show()"
   ]
  },
  {
   "cell_type": "code",
   "execution_count": 966,
   "metadata": {
    "collapsed": false,
    "scrolled": true
   },
   "outputs": [
    {
     "data": {
      "image/png": "[encoded data removed]",
      "text/plain": [
       "<matplotlib.figure.Figure at 0x11f3af0b8>"
      ]
     },
     "metadata": {},
     "output_type": "display_data"
    }
   ],
   "source": [
    "# Show the results of a linear regression within each dataset\n",
    "sns.lmplot(x=\"topic_0\", y=\"ppr_fpts\", data=train)\n",
    "\n",
    "plt.show()"
   ]
  },
  {
   "cell_type": "code",
   "execution_count": 967,
   "metadata": {
    "collapsed": false,
    "scrolled": true
   },
   "outputs": [
    {
     "data": {
      "text/plain": [
       "<seaborn.axisgrid.FacetGrid at 0x12045c588>"
      ]
     },
     "execution_count": 967,
     "metadata": {},
     "output_type": "execute_result"
    },
    {
     "data": {
      "image/png": "[encoded data removed]",
      "text/plain": [
       "<matplotlib.figure.Figure at 0x12045c908>"
      ]
     },
     "metadata": {},
     "output_type": "display_data"
    }
   ],
   "source": [
    "import seaborn as sns\n",
    "\n",
    "# Show the results of a linear regression within each dataset\n",
    "sns.lmplot(x=\"topic_1\", y=\"ppr_fpts\", data=train)"
   ]
  },
  {
   "cell_type": "code",
   "execution_count": 969,
   "metadata": {
    "collapsed": false
   },
   "outputs": [
    {
     "data": {
      "text/plain": [
       "<seaborn.axisgrid.FacetGrid at 0x14850c9b0>"
      ]
     },
     "execution_count": 969,
     "metadata": {},
     "output_type": "execute_result"
    },
    {
     "data": {
      "image/png": "[encoded data removed]",
      "text/plain": [
       "<matplotlib.figure.Figure at 0x14850ceb8>"
      ]
     },
     "metadata": {},
     "output_type": "display_data"
    }
   ],
   "source": [
    "sns.lmplot(x=\"subjectivity\", y=\"ppr_fpts\", data=train)"
   ]
  },
  {
   "cell_type": "code",
   "execution_count": 968,
   "metadata": {
    "collapsed": false,
    "scrolled": true
   },
   "outputs": [
    {
     "data": {
      "text/plain": [
       "<seaborn.axisgrid.FacetGrid at 0x11ff44630>"
      ]
     },
     "execution_count": 968,
     "metadata": {},
     "output_type": "execute_result"
    },
    {
     "data": {
      "image/png": "[encoded data removed]",
      "text/plain": [
       "<matplotlib.figure.Figure at 0x11ff44400>"
      ]
     },
     "metadata": {},
     "output_type": "display_data"
    }
   ],
   "source": [
    "sns.lmplot(x=\"topic_2\", y=\"ppr_fpts\", data=train)"
   ]
  },
  {
   "cell_type": "code",
   "execution_count": 560,
   "metadata": {
    "collapsed": false,
    "scrolled": true
   },
   "outputs": [
    {
     "data": {
      "text/plain": [
       "<matplotlib.collections.PathCollection at 0x13bc72588>"
      ]
     },
     "execution_count": 560,
     "metadata": {},
     "output_type": "execute_result"
    },
    {
     "data": {
      "image/png": "[encoded data removed]",
      "text/plain": [
       "<matplotlib.figure.Figure at 0x133fc2080>"
      ]
     },
     "metadata": {},
     "output_type": "display_data"
    }
   ],
   "source": [
    "plt.scatter(train['topic_2'], train['ppr_fpts'])"
   ]
  },
  {
   "cell_type": "code",
   "execution_count": 737,
   "metadata": {
    "collapsed": false,
    "scrolled": true
   },
   "outputs": [
    {
     "data": {
      "text/plain": [
       "<seaborn.axisgrid.FacetGrid at 0x1213dd780>"
      ]
     },
     "execution_count": 737,
     "metadata": {},
     "output_type": "execute_result"
    },
    {
     "data": {
      "image/png": "[encoded data removed]",
      "text/plain": [
       "<matplotlib.figure.Figure at 0x1227b0438>"
      ]
     },
     "metadata": {},
     "output_type": "display_data"
    }
   ],
   "source": [
    "import seaborn as sns\n",
    "\n",
    "# Show the results of a linear regression within each dataset\n",
    "sns.lmplot(x=\"topic_2\", y=\"ppr_fpts\", data=train)"
   ]
  },
  {
   "cell_type": "code",
   "execution_count": 728,
   "metadata": {
    "collapsed": false
   },
   "outputs": [
    {
     "data": {
      "text/html": [
       "<table class=\"simpletable\">\n",
       "<caption>OLS Regression Results</caption>\n",
       "<tr>\n",
       "  <th>Dep. Variable:</th>        <td>ppr_fpts</td>     <th>  R-squared:         </th> <td>   0.249</td>\n",
       "</tr>\n",
       "<tr>\n",
       "  <th>Model:</th>                   <td>OLS</td>       <th>  Adj. R-squared:    </th> <td>   0.236</td>\n",
       "</tr>\n",
       "<tr>\n",
       "  <th>Method:</th>             <td>Least Squares</td>  <th>  F-statistic:       </th> <td>   19.31</td>\n",
       "</tr>\n",
       "<tr>\n",
       "  <th>Date:</th>             <td>Fri, 09 Sep 2016</td> <th>  Prob (F-statistic):</th> <td>7.35e-11</td>\n",
       "</tr>\n",
       "<tr>\n",
       "  <th>Time:</th>                 <td>09:02:54</td>     <th>  Log-Likelihood:    </th> <td> -1009.1</td>\n",
       "</tr>\n",
       "<tr>\n",
       "  <th>No. Observations:</th>      <td>   179</td>      <th>  AIC:               </th> <td>   2026.</td>\n",
       "</tr>\n",
       "<tr>\n",
       "  <th>Df Residuals:</th>          <td>   175</td>      <th>  BIC:               </th> <td>   2039.</td>\n",
       "</tr>\n",
       "<tr>\n",
       "  <th>Df Model:</th>              <td>     3</td>      <th>                     </th>     <td> </td>   \n",
       "</tr>\n",
       "<tr>\n",
       "  <th>Covariance Type:</th>      <td>nonrobust</td>    <th>                     </th>     <td> </td>   \n",
       "</tr>\n",
       "</table>\n",
       "<table class=\"simpletable\">\n",
       "<tr>\n",
       "         <td></td>           <th>coef</th>     <th>std err</th>      <th>t</th>      <th>P>|t|</th> <th>[95.0% Conf. Int.]</th> \n",
       "</tr>\n",
       "<tr>\n",
       "  <th>Intercept</th>      <td>  -14.5947</td> <td>   23.957</td> <td>   -0.609</td> <td> 0.543</td> <td>  -61.877    32.688</td>\n",
       "</tr>\n",
       "<tr>\n",
       "  <th>log_topic_0</th>    <td>  -29.6248</td> <td>   11.904</td> <td>   -2.489</td> <td> 0.014</td> <td>  -53.119    -6.131</td>\n",
       "</tr>\n",
       "<tr>\n",
       "  <th>topic_1</th>        <td>   66.2471</td> <td>   58.347</td> <td>    1.135</td> <td> 0.258</td> <td>  -48.908   181.402</td>\n",
       "</tr>\n",
       "<tr>\n",
       "  <th>prior_fpts_per</th> <td>    6.6107</td> <td>    1.662</td> <td>    3.978</td> <td> 0.000</td> <td>    3.331     9.890</td>\n",
       "</tr>\n",
       "</table>\n",
       "<table class=\"simpletable\">\n",
       "<tr>\n",
       "  <th>Omnibus:</th>       <td> 0.995</td> <th>  Durbin-Watson:     </th> <td>   1.912</td>\n",
       "</tr>\n",
       "<tr>\n",
       "  <th>Prob(Omnibus):</th> <td> 0.608</td> <th>  Jarque-Bera (JB):  </th> <td>   1.043</td>\n",
       "</tr>\n",
       "<tr>\n",
       "  <th>Skew:</th>          <td>-0.086</td> <th>  Prob(JB):          </th> <td>   0.594</td>\n",
       "</tr>\n",
       "<tr>\n",
       "  <th>Kurtosis:</th>      <td> 2.667</td> <th>  Cond. No.          </th> <td>    155.</td>\n",
       "</tr>\n",
       "</table>"
      ],
      "text/plain": [
       "<class 'statsmodels.iolib.summary.Summary'>\n",
       "\"\"\"\n",
       "                            OLS Regression Results                            \n",
       "==============================================================================\n",
       "Dep. Variable:               ppr_fpts   R-squared:                       0.249\n",
       "Model:                            OLS   Adj. R-squared:                  0.236\n",
       "Method:                 Least Squares   F-statistic:                     19.31\n",
       "Date:                Fri, 09 Sep 2016   Prob (F-statistic):           7.35e-11\n",
       "Time:                        09:02:54   Log-Likelihood:                -1009.1\n",
       "No. Observations:                 179   AIC:                             2026.\n",
       "Df Residuals:                     175   BIC:                             2039.\n",
       "Df Model:                           3                                         \n",
       "Covariance Type:            nonrobust                                         \n",
       "==================================================================================\n",
       "                     coef    std err          t      P>|t|      [95.0% Conf. Int.]\n",
       "----------------------------------------------------------------------------------\n",
       "Intercept        -14.5947     23.957     -0.609      0.543       -61.877    32.688\n",
       "log_topic_0      -29.6248     11.904     -2.489      0.014       -53.119    -6.131\n",
       "topic_1           66.2471     58.347      1.135      0.258       -48.908   181.402\n",
       "prior_fpts_per     6.6107      1.662      3.978      0.000         3.331     9.890\n",
       "==============================================================================\n",
       "Omnibus:                        0.995   Durbin-Watson:                   1.912\n",
       "Prob(Omnibus):                  0.608   Jarque-Bera (JB):                1.043\n",
       "Skew:                          -0.086   Prob(JB):                        0.594\n",
       "Kurtosis:                       2.667   Cond. No.                         155.\n",
       "==============================================================================\n",
       "\n",
       "Warnings:\n",
       "[1] Standard Errors assume that the covariance matrix of the errors is correctly specified.\n",
       "\"\"\""
      ]
     },
     "execution_count": 728,
     "metadata": {},
     "output_type": "execute_result"
    }
   ],
   "source": [
    "import statsmodels.api as sm\n",
    "from patsy import dmatrices\n",
    "\n",
    "# Using social media info and prior year fantasy points\n",
    "y, X = dmatrices('ppr_fpts ~ log_topic_0+topic_1+prior_fpts_per', data=train, return_type='dataframe')\n",
    "\n",
    "\n",
    "model = sm.OLS(y, X)\n",
    "results = model.fit()\n",
    "results.summary()"
   ]
  },
  {
   "cell_type": "code",
   "execution_count": 729,
   "metadata": {
    "collapsed": false
   },
   "outputs": [],
   "source": [
    "from sklearn.metrics import mean_squared_error\n",
    "\n",
    "y_test, X_test = dmatrices('ppr_fpts ~ log_topic_0+topic_1+prior_fpts_per', data=test, return_type='dataframe')"
   ]
  },
  {
   "cell_type": "code",
   "execution_count": 730,
   "metadata": {
    "collapsed": false
   },
   "outputs": [
    {
     "name": "stdout",
     "output_type": "stream",
     "text": [
      "67.128933731\n"
     ]
    }
   ],
   "source": [
    "#Using adp_post only\n",
    "predictions = results.predict(X_test)\n",
    "# Compute the error.\n",
    "print(np.sqrt(mean_squared_error(predictions, np.ravel(y_test))))"
   ]
  },
  {
   "cell_type": "markdown",
   "metadata": {},
   "source": [
    "### Looking At Only Social Media Versus Average"
   ]
  },
  {
   "cell_type": "code",
   "execution_count": 707,
   "metadata": {
    "collapsed": false
   },
   "outputs": [
    {
     "name": "stdout",
     "output_type": "stream",
     "text": [
      "81.4974548375\n"
     ]
    }
   ],
   "source": [
    "mean = np.full((1, len(y_test)), np.mean(y))\n",
    "print(np.sqrt(mean_squared_error(mean[0], np.ravel(y_test))))"
   ]
  },
  {
   "cell_type": "markdown",
   "metadata": {},
   "source": [
    "### Looking at only social media"
   ]
  },
  {
   "cell_type": "code",
   "execution_count": 973,
   "metadata": {
    "collapsed": false,
    "scrolled": true
   },
   "outputs": [
    {
     "data": {
      "text/html": [
       "<table class=\"simpletable\">\n",
       "<caption>OLS Regression Results</caption>\n",
       "<tr>\n",
       "  <th>Dep. Variable:</th>        <td>ppr_fpts</td>     <th>  R-squared:         </th> <td>   0.260</td>\n",
       "</tr>\n",
       "<tr>\n",
       "  <th>Model:</th>                   <td>OLS</td>       <th>  Adj. R-squared:    </th> <td>   0.241</td>\n",
       "</tr>\n",
       "<tr>\n",
       "  <th>Method:</th>             <td>Least Squares</td>  <th>  F-statistic:       </th> <td>   13.56</td>\n",
       "</tr>\n",
       "<tr>\n",
       "  <th>Date:</th>             <td>Fri, 09 Sep 2016</td> <th>  Prob (F-statistic):</th> <td>2.45e-11</td>\n",
       "</tr>\n",
       "<tr>\n",
       "  <th>Time:</th>                 <td>11:00:51</td>     <th>  Log-Likelihood:    </th> <td> -1116.1</td>\n",
       "</tr>\n",
       "<tr>\n",
       "  <th>No. Observations:</th>      <td>   199</td>      <th>  AIC:               </th> <td>   2244.</td>\n",
       "</tr>\n",
       "<tr>\n",
       "  <th>Df Residuals:</th>          <td>   193</td>      <th>  BIC:               </th> <td>   2264.</td>\n",
       "</tr>\n",
       "<tr>\n",
       "  <th>Df Model:</th>              <td>     5</td>      <th>                     </th>     <td> </td>   \n",
       "</tr>\n",
       "<tr>\n",
       "  <th>Covariance Type:</th>      <td>nonrobust</td>    <th>                     </th>     <td> </td>   \n",
       "</tr>\n",
       "</table>\n",
       "<table class=\"simpletable\">\n",
       "<tr>\n",
       "        <td></td>          <th>coef</th>     <th>std err</th>      <th>t</th>      <th>P>|t|</th> <th>[95.0% Conf. Int.]</th> \n",
       "</tr>\n",
       "<tr>\n",
       "  <th>Intercept</th>    <td>  176.0354</td> <td>   58.036</td> <td>    3.033</td> <td> 0.003</td> <td>   61.569   290.502</td>\n",
       "</tr>\n",
       "<tr>\n",
       "  <th>tweets</th>       <td>    0.1656</td> <td>    0.053</td> <td>    3.140</td> <td> 0.002</td> <td>    0.062     0.270</td>\n",
       "</tr>\n",
       "<tr>\n",
       "  <th>subjectivity</th> <td> -346.1087</td> <td>  176.196</td> <td>   -1.964</td> <td> 0.051</td> <td> -693.626     1.409</td>\n",
       "</tr>\n",
       "<tr>\n",
       "  <th>topic_0</th>      <td>  -77.9055</td> <td>   61.349</td> <td>   -1.270</td> <td> 0.206</td> <td> -198.907    43.096</td>\n",
       "</tr>\n",
       "<tr>\n",
       "  <th>topic_1</th>      <td> -127.2353</td> <td>   55.114</td> <td>   -2.309</td> <td> 0.022</td> <td> -235.938   -18.533</td>\n",
       "</tr>\n",
       "<tr>\n",
       "  <th>topic_2</th>      <td>  182.6002</td> <td>   41.937</td> <td>    4.354</td> <td> 0.000</td> <td>   99.887   265.314</td>\n",
       "</tr>\n",
       "</table>\n",
       "<table class=\"simpletable\">\n",
       "<tr>\n",
       "  <th>Omnibus:</th>       <td> 2.257</td> <th>  Durbin-Watson:     </th> <td>   1.839</td>\n",
       "</tr>\n",
       "<tr>\n",
       "  <th>Prob(Omnibus):</th> <td> 0.324</td> <th>  Jarque-Bera (JB):  </th> <td>   1.745</td>\n",
       "</tr>\n",
       "<tr>\n",
       "  <th>Skew:</th>          <td>-0.038</td> <th>  Prob(JB):          </th> <td>   0.418</td>\n",
       "</tr>\n",
       "<tr>\n",
       "  <th>Kurtosis:</th>      <td> 2.548</td> <th>  Cond. No.          </th> <td>1.14e+04</td>\n",
       "</tr>\n",
       "</table>"
      ],
      "text/plain": [
       "<class 'statsmodels.iolib.summary.Summary'>\n",
       "\"\"\"\n",
       "                            OLS Regression Results                            \n",
       "==============================================================================\n",
       "Dep. Variable:               ppr_fpts   R-squared:                       0.260\n",
       "Model:                            OLS   Adj. R-squared:                  0.241\n",
       "Method:                 Least Squares   F-statistic:                     13.56\n",
       "Date:                Fri, 09 Sep 2016   Prob (F-statistic):           2.45e-11\n",
       "Time:                        11:00:51   Log-Likelihood:                -1116.1\n",
       "No. Observations:                 199   AIC:                             2244.\n",
       "Df Residuals:                     193   BIC:                             2264.\n",
       "Df Model:                           5                                         \n",
       "Covariance Type:            nonrobust                                         \n",
       "================================================================================\n",
       "                   coef    std err          t      P>|t|      [95.0% Conf. Int.]\n",
       "--------------------------------------------------------------------------------\n",
       "Intercept      176.0354     58.036      3.033      0.003        61.569   290.502\n",
       "tweets           0.1656      0.053      3.140      0.002         0.062     0.270\n",
       "subjectivity  -346.1087    176.196     -1.964      0.051      -693.626     1.409\n",
       "topic_0        -77.9055     61.349     -1.270      0.206      -198.907    43.096\n",
       "topic_1       -127.2353     55.114     -2.309      0.022      -235.938   -18.533\n",
       "topic_2        182.6002     41.937      4.354      0.000        99.887   265.314\n",
       "==============================================================================\n",
       "Omnibus:                        2.257   Durbin-Watson:                   1.839\n",
       "Prob(Omnibus):                  0.324   Jarque-Bera (JB):                1.745\n",
       "Skew:                          -0.038   Prob(JB):                        0.418\n",
       "Kurtosis:                       2.548   Cond. No.                     1.14e+04\n",
       "==============================================================================\n",
       "\n",
       "Warnings:\n",
       "[1] Standard Errors assume that the covariance matrix of the errors is correctly specified.\n",
       "[2] The condition number is large, 1.14e+04. This might indicate that there are\n",
       "strong multicollinearity or other numerical problems.\n",
       "\"\"\""
      ]
     },
     "execution_count": 973,
     "metadata": {},
     "output_type": "execute_result"
    }
   ],
   "source": [
    "y, X = dmatrices('ppr_fpts ~ tweets+subjectivity+topic_0+topic_1+topic_2', data=train, return_type='dataframe')\n",
    "\n",
    "\n",
    "model = sm.OLS(y, X)\n",
    "results = model.fit()\n",
    "results.summary()"
   ]
  },
  {
   "cell_type": "code",
   "execution_count": 971,
   "metadata": {
    "collapsed": true
   },
   "outputs": [],
   "source": [
    "test.columns = train.columns\n",
    "\n",
    "y_test, X_test = dmatrices('ppr_fpts ~ tweets+subjectivity+topic_0+topic_1+topic_2', data=test, return_type='dataframe')"
   ]
  },
  {
   "cell_type": "code",
   "execution_count": 972,
   "metadata": {
    "collapsed": false
   },
   "outputs": [
    {
     "name": "stdout",
     "output_type": "stream",
     "text": [
      "78.5221253809\n"
     ]
    }
   ],
   "source": [
    "#Using adp_post only\n",
    "predictions = results.predict(X_test)\n",
    "# Compute the error.\n",
    "print(np.sqrt(mean_squared_error(predictions, np.ravel(y_test))))"
   ]
  },
  {
   "cell_type": "markdown",
   "metadata": {},
   "source": [
    "### Using Average Draft Position Only"
   ]
  },
  {
   "cell_type": "code",
   "execution_count": 632,
   "metadata": {
    "collapsed": false
   },
   "outputs": [
    {
     "data": {
      "text/html": [
       "<table class=\"simpletable\">\n",
       "<caption>OLS Regression Results</caption>\n",
       "<tr>\n",
       "  <th>Dep. Variable:</th>        <td>ppr_fpts</td>     <th>  R-squared:         </th> <td>   0.161</td>\n",
       "</tr>\n",
       "<tr>\n",
       "  <th>Model:</th>                   <td>OLS</td>       <th>  Adj. R-squared:    </th> <td>   0.156</td>\n",
       "</tr>\n",
       "<tr>\n",
       "  <th>Method:</th>             <td>Least Squares</td>  <th>  F-statistic:       </th> <td>   33.89</td>\n",
       "</tr>\n",
       "<tr>\n",
       "  <th>Date:</th>             <td>Thu, 08 Sep 2016</td> <th>  Prob (F-statistic):</th> <td>2.69e-08</td>\n",
       "</tr>\n",
       "<tr>\n",
       "  <th>Time:</th>                 <td>22:41:45</td>     <th>  Log-Likelihood:    </th> <td> -1019.0</td>\n",
       "</tr>\n",
       "<tr>\n",
       "  <th>No. Observations:</th>      <td>   179</td>      <th>  AIC:               </th> <td>   2042.</td>\n",
       "</tr>\n",
       "<tr>\n",
       "  <th>Df Residuals:</th>          <td>   177</td>      <th>  BIC:               </th> <td>   2048.</td>\n",
       "</tr>\n",
       "<tr>\n",
       "  <th>Df Model:</th>              <td>     1</td>      <th>                     </th>     <td> </td>   \n",
       "</tr>\n",
       "<tr>\n",
       "  <th>Covariance Type:</th>      <td>nonrobust</td>    <th>                     </th>     <td> </td>   \n",
       "</tr>\n",
       "</table>\n",
       "<table class=\"simpletable\">\n",
       "<tr>\n",
       "         <td></td>           <th>coef</th>     <th>std err</th>      <th>t</th>      <th>P>|t|</th> <th>[95.0% Conf. Int.]</th> \n",
       "</tr>\n",
       "<tr>\n",
       "  <th>Intercept</th>      <td>   54.0894</td> <td>   18.567</td> <td>    2.913</td> <td> 0.004</td> <td>   17.448    90.731</td>\n",
       "</tr>\n",
       "<tr>\n",
       "  <th>prior_fpts_per</th> <td>    8.1951</td> <td>    1.408</td> <td>    5.821</td> <td> 0.000</td> <td>    5.417    10.973</td>\n",
       "</tr>\n",
       "</table>\n",
       "<table class=\"simpletable\">\n",
       "<tr>\n",
       "  <th>Omnibus:</th>       <td> 1.439</td> <th>  Durbin-Watson:     </th> <td>   1.877</td>\n",
       "</tr>\n",
       "<tr>\n",
       "  <th>Prob(Omnibus):</th> <td> 0.487</td> <th>  Jarque-Bera (JB):  </th> <td>   1.273</td>\n",
       "</tr>\n",
       "<tr>\n",
       "  <th>Skew:</th>          <td>-0.036</td> <th>  Prob(JB):          </th> <td>   0.529</td>\n",
       "</tr>\n",
       "<tr>\n",
       "  <th>Kurtosis:</th>      <td> 2.593</td> <th>  Cond. No.          </th> <td>    45.6</td>\n",
       "</tr>\n",
       "</table>"
      ],
      "text/plain": [
       "<class 'statsmodels.iolib.summary.Summary'>\n",
       "\"\"\"\n",
       "                            OLS Regression Results                            \n",
       "==============================================================================\n",
       "Dep. Variable:               ppr_fpts   R-squared:                       0.161\n",
       "Model:                            OLS   Adj. R-squared:                  0.156\n",
       "Method:                 Least Squares   F-statistic:                     33.89\n",
       "Date:                Thu, 08 Sep 2016   Prob (F-statistic):           2.69e-08\n",
       "Time:                        22:41:45   Log-Likelihood:                -1019.0\n",
       "No. Observations:                 179   AIC:                             2042.\n",
       "Df Residuals:                     177   BIC:                             2048.\n",
       "Df Model:                           1                                         \n",
       "Covariance Type:            nonrobust                                         \n",
       "==================================================================================\n",
       "                     coef    std err          t      P>|t|      [95.0% Conf. Int.]\n",
       "----------------------------------------------------------------------------------\n",
       "Intercept         54.0894     18.567      2.913      0.004        17.448    90.731\n",
       "prior_fpts_per     8.1951      1.408      5.821      0.000         5.417    10.973\n",
       "==============================================================================\n",
       "Omnibus:                        1.439   Durbin-Watson:                   1.877\n",
       "Prob(Omnibus):                  0.487   Jarque-Bera (JB):                1.273\n",
       "Skew:                          -0.036   Prob(JB):                        0.529\n",
       "Kurtosis:                       2.593   Cond. No.                         45.6\n",
       "==============================================================================\n",
       "\n",
       "Warnings:\n",
       "[1] Standard Errors assume that the covariance matrix of the errors is correctly specified.\n",
       "\"\"\""
      ]
     },
     "execution_count": 632,
     "metadata": {},
     "output_type": "execute_result"
    }
   ],
   "source": [
    "y, X = dmatrices('ppr_fpts ~ prior_fpts_per', data=train, return_type='dataframe')\n",
    "\n",
    "\n",
    "model = sm.OLS(y, X)\n",
    "results = model.fit()\n",
    "results.summary()"
   ]
  },
  {
   "cell_type": "code",
   "execution_count": 633,
   "metadata": {
    "collapsed": true
   },
   "outputs": [],
   "source": [
    "y_test, X_test = dmatrices('ppr_fpts ~ prior_fpts_per', data=test, return_type='dataframe')"
   ]
  },
  {
   "cell_type": "code",
   "execution_count": 635,
   "metadata": {
    "collapsed": false
   },
   "outputs": [
    {
     "name": "stdout",
     "output_type": "stream",
     "text": [
      "70.6046063738\n"
     ]
    }
   ],
   "source": [
    "predictions = results.predict(X_test)\n",
    "# Compute the error.\n",
    "print(np.sqrt(mean_squared_error(predictions, np.ravel(y_test))))"
   ]
  },
  {
   "cell_type": "markdown",
   "metadata": {},
   "source": [
    "### Average Draft Position with Social Media"
   ]
  },
  {
   "cell_type": "code",
   "execution_count": 993,
   "metadata": {
    "collapsed": false
   },
   "outputs": [
    {
     "data": {
      "text/html": [
       "<table class=\"simpletable\">\n",
       "<caption>OLS Regression Results</caption>\n",
       "<tr>\n",
       "  <th>Dep. Variable:</th>        <td>ppr_fpts</td>     <th>  R-squared:         </th> <td>   0.388</td>\n",
       "</tr>\n",
       "<tr>\n",
       "  <th>Model:</th>                   <td>OLS</td>       <th>  Adj. R-squared:    </th> <td>   0.379</td>\n",
       "</tr>\n",
       "<tr>\n",
       "  <th>Method:</th>             <td>Least Squares</td>  <th>  F-statistic:       </th> <td>   41.29</td>\n",
       "</tr>\n",
       "<tr>\n",
       "  <th>Date:</th>             <td>Fri, 09 Sep 2016</td> <th>  Prob (F-statistic):</th> <td>1.06e-20</td>\n",
       "</tr>\n",
       "<tr>\n",
       "  <th>Time:</th>                 <td>11:38:23</td>     <th>  Log-Likelihood:    </th> <td> -1097.1</td>\n",
       "</tr>\n",
       "<tr>\n",
       "  <th>No. Observations:</th>      <td>   199</td>      <th>  AIC:               </th> <td>   2202.</td>\n",
       "</tr>\n",
       "<tr>\n",
       "  <th>Df Residuals:</th>          <td>   195</td>      <th>  BIC:               </th> <td>   2215.</td>\n",
       "</tr>\n",
       "<tr>\n",
       "  <th>Df Model:</th>              <td>     3</td>      <th>                     </th>     <td> </td>   \n",
       "</tr>\n",
       "<tr>\n",
       "  <th>Covariance Type:</th>      <td>nonrobust</td>    <th>                     </th>     <td> </td>   \n",
       "</tr>\n",
       "</table>\n",
       "<table class=\"simpletable\">\n",
       "<tr>\n",
       "        <td></td>          <th>coef</th>     <th>std err</th>      <th>t</th>      <th>P>|t|</th> <th>[95.0% Conf. Int.]</th> \n",
       "</tr>\n",
       "<tr>\n",
       "  <th>Intercept</th>    <td>  351.0225</td> <td>   48.288</td> <td>    7.269</td> <td> 0.000</td> <td>  255.789   446.256</td>\n",
       "</tr>\n",
       "<tr>\n",
       "  <th>avg_pick</th>     <td>   -0.8212</td> <td>    0.082</td> <td>  -10.073</td> <td> 0.000</td> <td>   -0.982    -0.660</td>\n",
       "</tr>\n",
       "<tr>\n",
       "  <th>subjectivity</th> <td> -347.0591</td> <td>  154.597</td> <td>   -2.245</td> <td> 0.026</td> <td> -651.956   -42.162</td>\n",
       "</tr>\n",
       "<tr>\n",
       "  <th>topic_1</th>      <td> -164.9218</td> <td>   42.089</td> <td>   -3.918</td> <td> 0.000</td> <td> -247.930   -81.913</td>\n",
       "</tr>\n",
       "</table>\n",
       "<table class=\"simpletable\">\n",
       "<tr>\n",
       "  <th>Omnibus:</th>       <td> 0.604</td> <th>  Durbin-Watson:     </th> <td>   2.020</td>\n",
       "</tr>\n",
       "<tr>\n",
       "  <th>Prob(Omnibus):</th> <td> 0.739</td> <th>  Jarque-Bera (JB):  </th> <td>   0.710</td>\n",
       "</tr>\n",
       "<tr>\n",
       "  <th>Skew:</th>          <td>-0.121</td> <th>  Prob(JB):          </th> <td>   0.701</td>\n",
       "</tr>\n",
       "<tr>\n",
       "  <th>Kurtosis:</th>      <td> 2.836</td> <th>  Cond. No.          </th> <td>4.09e+03</td>\n",
       "</tr>\n",
       "</table>"
      ],
      "text/plain": [
       "<class 'statsmodels.iolib.summary.Summary'>\n",
       "\"\"\"\n",
       "                            OLS Regression Results                            \n",
       "==============================================================================\n",
       "Dep. Variable:               ppr_fpts   R-squared:                       0.388\n",
       "Model:                            OLS   Adj. R-squared:                  0.379\n",
       "Method:                 Least Squares   F-statistic:                     41.29\n",
       "Date:                Fri, 09 Sep 2016   Prob (F-statistic):           1.06e-20\n",
       "Time:                        11:38:23   Log-Likelihood:                -1097.1\n",
       "No. Observations:                 199   AIC:                             2202.\n",
       "Df Residuals:                     195   BIC:                             2215.\n",
       "Df Model:                           3                                         \n",
       "Covariance Type:            nonrobust                                         \n",
       "================================================================================\n",
       "                   coef    std err          t      P>|t|      [95.0% Conf. Int.]\n",
       "--------------------------------------------------------------------------------\n",
       "Intercept      351.0225     48.288      7.269      0.000       255.789   446.256\n",
       "avg_pick        -0.8212      0.082    -10.073      0.000        -0.982    -0.660\n",
       "subjectivity  -347.0591    154.597     -2.245      0.026      -651.956   -42.162\n",
       "topic_1       -164.9218     42.089     -3.918      0.000      -247.930   -81.913\n",
       "==============================================================================\n",
       "Omnibus:                        0.604   Durbin-Watson:                   2.020\n",
       "Prob(Omnibus):                  0.739   Jarque-Bera (JB):                0.710\n",
       "Skew:                          -0.121   Prob(JB):                        0.701\n",
       "Kurtosis:                       2.836   Cond. No.                     4.09e+03\n",
       "==============================================================================\n",
       "\n",
       "Warnings:\n",
       "[1] Standard Errors assume that the covariance matrix of the errors is correctly specified.\n",
       "[2] The condition number is large, 4.09e+03. This might indicate that there are\n",
       "strong multicollinearity or other numerical problems.\n",
       "\"\"\""
      ]
     },
     "execution_count": 993,
     "metadata": {},
     "output_type": "execute_result"
    }
   ],
   "source": [
    "y, X = dmatrices('ppr_fpts ~ avg_pick+subjectivity+topic_1', data=train, return_type='dataframe')\n",
    "\n",
    "model = sm.OLS(y, X)\n",
    "results = model.fit()\n",
    "results.summary()"
   ]
  },
  {
   "cell_type": "code",
   "execution_count": 990,
   "metadata": {
    "collapsed": true
   },
   "outputs": [],
   "source": [
    "y_test, X_test = dmatrices('ppr_fpts ~ avg_pick+subjectivity+topic_1', data=test, return_type='dataframe')"
   ]
  },
  {
   "cell_type": "code",
   "execution_count": 991,
   "metadata": {
    "collapsed": false
   },
   "outputs": [
    {
     "name": "stdout",
     "output_type": "stream",
     "text": [
      "64.9455547505\n"
     ]
    }
   ],
   "source": [
    "predictions = results.predict(X_test)\n",
    "# Compute the error.\n",
    "print(np.sqrt(mean_squared_error(predictions, np.ravel(y_test))))"
   ]
  },
  {
   "cell_type": "code",
   "execution_count": 99,
   "metadata": {
    "collapsed": false
   },
   "outputs": [
    {
     "data": {
      "text/plain": [
       "(131, 2)"
      ]
     },
     "execution_count": 99,
     "metadata": {},
     "output_type": "execute_result"
    }
   ],
   "source": [
    "X_test.shape"
   ]
  },
  {
   "cell_type": "markdown",
   "metadata": {},
   "source": [
    "## Random Forrest"
   ]
  },
  {
   "cell_type": "code",
   "execution_count": 185,
   "metadata": {
    "collapsed": false
   },
   "outputs": [
    {
     "name": "stdout",
     "output_type": "stream",
     "text": [
      "0.907463265714\n",
      "4139.43230137\n"
     ]
    }
   ],
   "source": [
    "from sklearn.ensemble import RandomForestRegressor\n",
    "from sklearn.metrics import mean_squared_error\n",
    "\n",
    "rfc = RandomForestRegressor(n_estimators=250)\n",
    "rfc.fit(X, np.ravel(y))\n",
    "print(rfc.score(X, y))\n",
    "# Make predictions.\n",
    "predictions = rfc.predict(X_test)\n",
    "# Compute the error.\n",
    "print(mean_squared_error(predictions, np.ravel(y_test)))"
   ]
  },
  {
   "cell_type": "code",
   "execution_count": 189,
   "metadata": {
    "collapsed": false
   },
   "outputs": [
    {
     "name": "stdout",
     "output_type": "stream",
     "text": [
      "0.893309300747\n",
      "3857.13085644\n"
     ]
    }
   ],
   "source": [
    "from sklearn.ensemble import RandomForestRegressor\n",
    "from sklearn.metrics import mean_squared_error\n",
    "\n",
    "rfc = RandomForestRegressor(n_estimators=250)\n",
    "rfc.fit(X, np.ravel(y))\n",
    "print(rfc.score(X, y))\n",
    "# Make predictions.\n",
    "predictions = rfc.predict(X_test)\n",
    "# Compute the error.\n",
    "print(mean_squared_error(predictions, np.ravel(y_test)))"
   ]
  },
  {
   "cell_type": "code",
   "execution_count": 47,
   "metadata": {
    "collapsed": false
   },
   "outputs": [
    {
     "name": "stdout",
     "output_type": "stream",
     "text": [
      "adp_pre 0.0924448264001\n",
      "adp_post 0.106507974838\n",
      "adpChange 0.0413743641902\n",
      "adpChangeScaled 0.022730419337\n",
      "tweets 0.0539864312787\n",
      "per_pos 0.027329137401\n",
      "net_pos 0.0294451896285\n",
      "pos_mean 0.0156732082903\n",
      "topic_0 0.0344724233907\n",
      "topic_1 0.0353239770677\n",
      "topic_2 0.111527255759\n",
      "topic_3 0.0396971501381\n",
      "exp 0.0307892961176\n",
      "prior_fpts 0.269557559513\n",
      "QB 0.0723396028177\n",
      "RB 0.00500974285227\n",
      "TE 0.00184359788917\n",
      "WR 0.00994784309126\n"
     ]
    }
   ],
   "source": [
    "for i in range(len(rfc.feature_importances_)):\n",
    "    print(X_train.columns[i], rfc.feature_importances_[i])"
   ]
  }
 ],
 "metadata": {
  "kernelspec": {
   "display_name": "Python 3",
   "language": "python",
   "name": "python3"
  },
  "language_info": {
   "codemirror_mode": {
    "name": "ipython",
    "version": 3
   },
   "file_extension": ".py",
   "mimetype": "text/x-python",
   "name": "python",
   "nbconvert_exporter": "python",
   "pygments_lexer": "ipython3",
   "version": "3.5.1"
  }
 },
 "nbformat": 4,
 "nbformat_minor": 0
}
